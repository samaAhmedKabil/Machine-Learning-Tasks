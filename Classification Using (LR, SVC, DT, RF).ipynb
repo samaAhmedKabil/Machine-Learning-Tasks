{
 "cells": [
  {
   "cell_type": "markdown",
   "id": "06b59023-7375-4048-9393-6931d08cf2c3",
   "metadata": {},
   "source": [
    "# Import Libraries"
   ]
  },
  {
   "cell_type": "code",
   "execution_count": 91,
   "id": "2fb1bc3c-40b2-459b-9ecd-abad175ce206",
   "metadata": {},
   "outputs": [],
   "source": [
    "import seaborn as sns\n",
    "import pandas as pd\n",
    "from sklearn.preprocessing import LabelEncoder\n",
    "import numpy as np\n",
    "from sklearn.model_selection import train_test_split, GridSearchCV, cross_val_score\n",
    "from sklearn.svm import SVC\n",
    "from sklearn.tree import DecisionTreeClassifier\n",
    "from sklearn.linear_model import LogisticRegression\n",
    "from sklearn.ensemble import RandomForestClassifier\n",
    "from sklearn.metrics import confusion_matrix, accuracy_score, precision_score, recall_score, f1_score, ConfusionMatrixDisplay\n",
    "import pandas as pd\n",
    "import matplotlib.pyplot as plt"
   ]
  },
  {
   "cell_type": "markdown",
   "id": "64948b9e-84eb-4e85-956c-8c09e4207e29",
   "metadata": {},
   "source": [
    "# Load Data"
   ]
  },
  {
   "cell_type": "code",
   "execution_count": 92,
   "id": "eb00f28f-8917-4b6a-aaba-bb391ec07e39",
   "metadata": {},
   "outputs": [],
   "source": [
    "data = sns.load_dataset('penguins')\n",
    "df = pd.DataFrame(data)"
   ]
  },
  {
   "cell_type": "code",
   "execution_count": 93,
   "id": "576bb035-7070-4f63-a532-12b68224efbf",
   "metadata": {},
   "outputs": [
    {
     "data": {
      "text/html": [
       "<div>\n",
       "<style scoped>\n",
       "    .dataframe tbody tr th:only-of-type {\n",
       "        vertical-align: middle;\n",
       "    }\n",
       "\n",
       "    .dataframe tbody tr th {\n",
       "        vertical-align: top;\n",
       "    }\n",
       "\n",
       "    .dataframe thead th {\n",
       "        text-align: right;\n",
       "    }\n",
       "</style>\n",
       "<table border=\"1\" class=\"dataframe\">\n",
       "  <thead>\n",
       "    <tr style=\"text-align: right;\">\n",
       "      <th></th>\n",
       "      <th>species</th>\n",
       "      <th>island</th>\n",
       "      <th>bill_length_mm</th>\n",
       "      <th>bill_depth_mm</th>\n",
       "      <th>flipper_length_mm</th>\n",
       "      <th>body_mass_g</th>\n",
       "      <th>sex</th>\n",
       "    </tr>\n",
       "  </thead>\n",
       "  <tbody>\n",
       "    <tr>\n",
       "      <th>0</th>\n",
       "      <td>Adelie</td>\n",
       "      <td>Torgersen</td>\n",
       "      <td>39.1</td>\n",
       "      <td>18.7</td>\n",
       "      <td>181.0</td>\n",
       "      <td>3750.0</td>\n",
       "      <td>Male</td>\n",
       "    </tr>\n",
       "    <tr>\n",
       "      <th>1</th>\n",
       "      <td>Adelie</td>\n",
       "      <td>Torgersen</td>\n",
       "      <td>39.5</td>\n",
       "      <td>17.4</td>\n",
       "      <td>186.0</td>\n",
       "      <td>3800.0</td>\n",
       "      <td>Female</td>\n",
       "    </tr>\n",
       "    <tr>\n",
       "      <th>2</th>\n",
       "      <td>Adelie</td>\n",
       "      <td>Torgersen</td>\n",
       "      <td>40.3</td>\n",
       "      <td>18.0</td>\n",
       "      <td>195.0</td>\n",
       "      <td>3250.0</td>\n",
       "      <td>Female</td>\n",
       "    </tr>\n",
       "    <tr>\n",
       "      <th>3</th>\n",
       "      <td>Adelie</td>\n",
       "      <td>Torgersen</td>\n",
       "      <td>NaN</td>\n",
       "      <td>NaN</td>\n",
       "      <td>NaN</td>\n",
       "      <td>NaN</td>\n",
       "      <td>NaN</td>\n",
       "    </tr>\n",
       "    <tr>\n",
       "      <th>4</th>\n",
       "      <td>Adelie</td>\n",
       "      <td>Torgersen</td>\n",
       "      <td>36.7</td>\n",
       "      <td>19.3</td>\n",
       "      <td>193.0</td>\n",
       "      <td>3450.0</td>\n",
       "      <td>Female</td>\n",
       "    </tr>\n",
       "    <tr>\n",
       "      <th>...</th>\n",
       "      <td>...</td>\n",
       "      <td>...</td>\n",
       "      <td>...</td>\n",
       "      <td>...</td>\n",
       "      <td>...</td>\n",
       "      <td>...</td>\n",
       "      <td>...</td>\n",
       "    </tr>\n",
       "    <tr>\n",
       "      <th>339</th>\n",
       "      <td>Gentoo</td>\n",
       "      <td>Biscoe</td>\n",
       "      <td>NaN</td>\n",
       "      <td>NaN</td>\n",
       "      <td>NaN</td>\n",
       "      <td>NaN</td>\n",
       "      <td>NaN</td>\n",
       "    </tr>\n",
       "    <tr>\n",
       "      <th>340</th>\n",
       "      <td>Gentoo</td>\n",
       "      <td>Biscoe</td>\n",
       "      <td>46.8</td>\n",
       "      <td>14.3</td>\n",
       "      <td>215.0</td>\n",
       "      <td>4850.0</td>\n",
       "      <td>Female</td>\n",
       "    </tr>\n",
       "    <tr>\n",
       "      <th>341</th>\n",
       "      <td>Gentoo</td>\n",
       "      <td>Biscoe</td>\n",
       "      <td>50.4</td>\n",
       "      <td>15.7</td>\n",
       "      <td>222.0</td>\n",
       "      <td>5750.0</td>\n",
       "      <td>Male</td>\n",
       "    </tr>\n",
       "    <tr>\n",
       "      <th>342</th>\n",
       "      <td>Gentoo</td>\n",
       "      <td>Biscoe</td>\n",
       "      <td>45.2</td>\n",
       "      <td>14.8</td>\n",
       "      <td>212.0</td>\n",
       "      <td>5200.0</td>\n",
       "      <td>Female</td>\n",
       "    </tr>\n",
       "    <tr>\n",
       "      <th>343</th>\n",
       "      <td>Gentoo</td>\n",
       "      <td>Biscoe</td>\n",
       "      <td>49.9</td>\n",
       "      <td>16.1</td>\n",
       "      <td>213.0</td>\n",
       "      <td>5400.0</td>\n",
       "      <td>Male</td>\n",
       "    </tr>\n",
       "  </tbody>\n",
       "</table>\n",
       "<p>344 rows × 7 columns</p>\n",
       "</div>"
      ],
      "text/plain": [
       "    species     island  bill_length_mm  bill_depth_mm  flipper_length_mm  \\\n",
       "0    Adelie  Torgersen            39.1           18.7              181.0   \n",
       "1    Adelie  Torgersen            39.5           17.4              186.0   \n",
       "2    Adelie  Torgersen            40.3           18.0              195.0   \n",
       "3    Adelie  Torgersen             NaN            NaN                NaN   \n",
       "4    Adelie  Torgersen            36.7           19.3              193.0   \n",
       "..      ...        ...             ...            ...                ...   \n",
       "339  Gentoo     Biscoe             NaN            NaN                NaN   \n",
       "340  Gentoo     Biscoe            46.8           14.3              215.0   \n",
       "341  Gentoo     Biscoe            50.4           15.7              222.0   \n",
       "342  Gentoo     Biscoe            45.2           14.8              212.0   \n",
       "343  Gentoo     Biscoe            49.9           16.1              213.0   \n",
       "\n",
       "     body_mass_g     sex  \n",
       "0         3750.0    Male  \n",
       "1         3800.0  Female  \n",
       "2         3250.0  Female  \n",
       "3            NaN     NaN  \n",
       "4         3450.0  Female  \n",
       "..           ...     ...  \n",
       "339          NaN     NaN  \n",
       "340       4850.0  Female  \n",
       "341       5750.0    Male  \n",
       "342       5200.0  Female  \n",
       "343       5400.0    Male  \n",
       "\n",
       "[344 rows x 7 columns]"
      ]
     },
     "execution_count": 93,
     "metadata": {},
     "output_type": "execute_result"
    }
   ],
   "source": [
    "df"
   ]
  },
  {
   "cell_type": "markdown",
   "id": "7959001e-6349-46ad-b548-91fa84c92343",
   "metadata": {},
   "source": [
    "# Data Cleaning / Data Preprocessing"
   ]
  },
  {
   "cell_type": "code",
   "execution_count": 94,
   "id": "e4c48fc7-fe49-436e-a529-8a35862648a9",
   "metadata": {},
   "outputs": [
    {
     "data": {
      "text/plain": [
       "array(['Adelie', 'Chinstrap', 'Gentoo'], dtype=object)"
      ]
     },
     "execution_count": 94,
     "metadata": {},
     "output_type": "execute_result"
    }
   ],
   "source": [
    "df['species'].unique()"
   ]
  },
  {
   "cell_type": "code",
   "execution_count": 95,
   "id": "100f723a-03bf-4c4e-8b23-9fa837a9f697",
   "metadata": {},
   "outputs": [
    {
     "data": {
      "text/plain": [
       "array(['Torgersen', 'Biscoe', 'Dream'], dtype=object)"
      ]
     },
     "execution_count": 95,
     "metadata": {},
     "output_type": "execute_result"
    }
   ],
   "source": [
    "df['island'].unique()"
   ]
  },
  {
   "cell_type": "code",
   "execution_count": 96,
   "id": "6a117ac3-f9f7-42dc-95b3-c09da56d2c8a",
   "metadata": {},
   "outputs": [
    {
     "data": {
      "text/plain": [
       "species               0\n",
       "island                0\n",
       "bill_length_mm        2\n",
       "bill_depth_mm         2\n",
       "flipper_length_mm     2\n",
       "body_mass_g           2\n",
       "sex                  11\n",
       "dtype: int64"
      ]
     },
     "execution_count": 96,
     "metadata": {},
     "output_type": "execute_result"
    }
   ],
   "source": [
    "df.isnull().sum()"
   ]
  },
  {
   "cell_type": "code",
   "execution_count": 97,
   "id": "dcca4719-699e-4459-ad6e-02b0e83676b3",
   "metadata": {},
   "outputs": [],
   "source": [
    "df['bill_length_mm'] = df['bill_length_mm'].fillna(df['bill_length_mm'].mean() , axis=0)\n",
    "df['bill_depth_mm'] = df['bill_depth_mm'].fillna(df['bill_length_mm'].mean() , axis=0)\n",
    "df['body_mass_g'] = df['body_mass_g'].fillna(df['bill_length_mm'].mean() , axis=0)"
   ]
  },
  {
   "cell_type": "code",
   "execution_count": 98,
   "id": "f08bd894-8487-48a9-9ebc-36ef4fe93afb",
   "metadata": {},
   "outputs": [],
   "source": [
    "df['flipper_length_mm'] = df['flipper_length_mm'].fillna(df['bill_length_mm'].mean() , axis=0)"
   ]
  },
  {
   "cell_type": "code",
   "execution_count": 99,
   "id": "c9c428da-3b79-4ca2-a832-738497620206",
   "metadata": {},
   "outputs": [
    {
     "data": {
      "text/plain": [
       "species               0\n",
       "island                0\n",
       "bill_length_mm        0\n",
       "bill_depth_mm         0\n",
       "flipper_length_mm     0\n",
       "body_mass_g           0\n",
       "sex                  11\n",
       "dtype: int64"
      ]
     },
     "execution_count": 99,
     "metadata": {},
     "output_type": "execute_result"
    }
   ],
   "source": [
    "df.isnull().sum()"
   ]
  },
  {
   "cell_type": "code",
   "execution_count": 100,
   "id": "94c3cc1c-3978-40d3-80cc-8aad89989e62",
   "metadata": {},
   "outputs": [
    {
     "name": "stdout",
     "output_type": "stream",
     "text": [
      "<class 'pandas.core.frame.DataFrame'>\n",
      "RangeIndex: 344 entries, 0 to 343\n",
      "Data columns (total 7 columns):\n",
      " #   Column             Non-Null Count  Dtype  \n",
      "---  ------             --------------  -----  \n",
      " 0   species            344 non-null    object \n",
      " 1   island             344 non-null    object \n",
      " 2   bill_length_mm     344 non-null    float64\n",
      " 3   bill_depth_mm      344 non-null    float64\n",
      " 4   flipper_length_mm  344 non-null    float64\n",
      " 5   body_mass_g        344 non-null    float64\n",
      " 6   sex                333 non-null    object \n",
      "dtypes: float64(4), object(3)\n",
      "memory usage: 18.9+ KB\n"
     ]
    }
   ],
   "source": [
    "df.info()"
   ]
  },
  {
   "cell_type": "code",
   "execution_count": 101,
   "id": "3d2ba362-614a-4276-93bf-a24bd48c782a",
   "metadata": {},
   "outputs": [
    {
     "name": "stdout",
     "output_type": "stream",
     "text": [
      "  species  species_encoded\n",
      "0  Adelie                0\n",
      "1  Adelie                0\n",
      "2  Adelie                0\n",
      "3  Adelie                0\n",
      "4  Adelie                0\n"
     ]
    }
   ],
   "source": [
    "label_encoder = LabelEncoder()\n",
    "df['species_encoded'] = label_encoder.fit_transform(df['species'])\n",
    "\n",
    "# View the first few rows to see the encoded column\n",
    "print(df[['species', 'species_encoded']].head())"
   ]
  },
  {
   "cell_type": "code",
   "execution_count": 102,
   "id": "1fd96f89-555f-45d7-97f2-c430c622b2ca",
   "metadata": {},
   "outputs": [
    {
     "name": "stdout",
     "output_type": "stream",
     "text": [
      "      sex  sex_encoded\n",
      "0    Male            1\n",
      "1  Female            0\n",
      "2  Female            0\n",
      "3     NaN            2\n",
      "4  Female            0\n"
     ]
    }
   ],
   "source": [
    "label_encoder = LabelEncoder()\n",
    "df['sex_encoded'] = label_encoder.fit_transform(df['sex'])\n",
    "\n",
    "# View the first few rows to see the encoded column\n",
    "print(df[['sex', 'sex_encoded']].head())"
   ]
  },
  {
   "cell_type": "markdown",
   "id": "d4e35572-2fa0-4fb3-8bce-6144bf4622a4",
   "metadata": {},
   "source": [
    "# Determine Features and Target"
   ]
  },
  {
   "cell_type": "code",
   "execution_count": 103,
   "id": "ac6bea4c-1e22-4a11-acb0-fe970cccfe7a",
   "metadata": {},
   "outputs": [],
   "source": [
    "x = df.drop(['species' , 'island' , 'sex'] , axis=1)\n",
    "y = df['species']"
   ]
  },
  {
   "cell_type": "markdown",
   "id": "d64cdde1-d2d1-4f22-beec-4ec97f4148e8",
   "metadata": {},
   "source": [
    "# Split Tarin and Test"
   ]
  },
  {
   "cell_type": "code",
   "execution_count": 104,
   "id": "079d77e9-390d-44c8-9842-1cf743e93557",
   "metadata": {},
   "outputs": [],
   "source": [
    "x_train, x_test, y_train, y_test = train_test_split(x, y, test_size=0.2, random_state=42)"
   ]
  },
  {
   "cell_type": "markdown",
   "id": "721403ed-aafc-4205-8a73-6415e5b7e1a3",
   "metadata": {},
   "source": [
    "# Apply Logistic Regression With Hyperparameters"
   ]
  },
  {
   "cell_type": "code",
   "execution_count": 164,
   "id": "b9b14d34-a402-43d5-9809-cd1603dd6182",
   "metadata": {},
   "outputs": [
    {
     "name": "stdout",
     "output_type": "stream",
     "text": [
      "LogisticRegression(C=0.1, max_iter=10, multi_class='ovr') {'C': 0.1, 'multi_class': 'ovr', 'penalty': 'l2'} 0.6763636363636364\n",
      "194    Chinstrap\n",
      "157    Chinstrap\n",
      "225       Gentoo\n",
      "208    Chinstrap\n",
      "318       Gentoo\n",
      "         ...    \n",
      "321       Gentoo\n",
      "172    Chinstrap\n",
      "73        Adelie\n",
      "76        Adelie\n",
      "16        Adelie\n",
      "Name: species, Length: 69, dtype: object   ['Adelie' 'Adelie' 'Gentoo' 'Adelie' 'Gentoo' 'Gentoo' 'Gentoo' 'Adelie'\n",
      " 'Adelie' 'Gentoo' 'Gentoo' 'Adelie' 'Adelie' 'Adelie' 'Gentoo' 'Adelie'\n",
      " 'Adelie' 'Gentoo' 'Gentoo' 'Gentoo' 'Adelie' 'Adelie' 'Gentoo' 'Gentoo'\n",
      " 'Adelie' 'Adelie' 'Gentoo' 'Gentoo' 'Adelie' 'Adelie' 'Adelie' 'Adelie'\n",
      " 'Adelie' 'Adelie' 'Gentoo' 'Adelie' 'Gentoo' 'Adelie' 'Adelie' 'Adelie'\n",
      " 'Adelie' 'Gentoo' 'Gentoo' 'Adelie' 'Chinstrap' 'Gentoo' 'Gentoo'\n",
      " 'Adelie' 'Adelie' 'Adelie' 'Adelie' 'Gentoo' 'Gentoo' 'Adelie' 'Adelie'\n",
      " 'Adelie' 'Adelie' 'Adelie' 'Adelie' 'Gentoo' 'Adelie' 'Gentoo' 'Gentoo'\n",
      " 'Gentoo' 'Gentoo' 'Adelie' 'Adelie' 'Adelie' 'Adelie']\n",
      "accuracy:- 0.6231884057971014\n",
      "recall:- 0.5515873015873015\n",
      "confusion matrix [[24  1  7]\n",
      " [15  0  1]\n",
      " [ 2  0 19]]\n",
      "f1 score:- 0.48306697108066965\n",
      "cross validation [0.72727273 0.69090909 0.8        0.70909091 0.78181818]\n"
     ]
    },
    {
     "name": "stderr",
     "output_type": "stream",
     "text": [
      "D:\\anaconda\\Lib\\site-packages\\sklearn\\model_selection\\_validation.py:547: FitFailedWarning: \n",
      "40 fits failed out of a total of 60.\n",
      "The score on these train-test partitions for these parameters will be set to nan.\n",
      "If these failures are not expected, you can try to debug them by setting error_score='raise'.\n",
      "\n",
      "Below are more details about the failures:\n",
      "--------------------------------------------------------------------------------\n",
      "20 fits failed with the following error:\n",
      "Traceback (most recent call last):\n",
      "  File \"D:\\anaconda\\Lib\\site-packages\\sklearn\\model_selection\\_validation.py\", line 895, in _fit_and_score\n",
      "    estimator.fit(X_train, y_train, **fit_params)\n",
      "  File \"D:\\anaconda\\Lib\\site-packages\\sklearn\\base.py\", line 1474, in wrapper\n",
      "    return fit_method(estimator, *args, **kwargs)\n",
      "           ^^^^^^^^^^^^^^^^^^^^^^^^^^^^^^^^^^^^^^\n",
      "  File \"D:\\anaconda\\Lib\\site-packages\\sklearn\\linear_model\\_logistic.py\", line 1172, in fit\n",
      "    solver = _check_solver(self.solver, self.penalty, self.dual)\n",
      "             ^^^^^^^^^^^^^^^^^^^^^^^^^^^^^^^^^^^^^^^^^^^^^^^^^^^\n",
      "  File \"D:\\anaconda\\Lib\\site-packages\\sklearn\\linear_model\\_logistic.py\", line 67, in _check_solver\n",
      "    raise ValueError(\n",
      "ValueError: Solver lbfgs supports only 'l2' or None penalties, got l1 penalty.\n",
      "\n",
      "--------------------------------------------------------------------------------\n",
      "6 fits failed with the following error:\n",
      "Traceback (most recent call last):\n",
      "  File \"D:\\anaconda\\Lib\\site-packages\\sklearn\\model_selection\\_validation.py\", line 895, in _fit_and_score\n",
      "    estimator.fit(X_train, y_train, **fit_params)\n",
      "  File \"D:\\anaconda\\Lib\\site-packages\\sklearn\\base.py\", line 1467, in wrapper\n",
      "    estimator._validate_params()\n",
      "  File \"D:\\anaconda\\Lib\\site-packages\\sklearn\\base.py\", line 666, in _validate_params\n",
      "    validate_parameter_constraints(\n",
      "  File \"D:\\anaconda\\Lib\\site-packages\\sklearn\\utils\\_param_validation.py\", line 95, in validate_parameter_constraints\n",
      "    raise InvalidParameterError(\n",
      "sklearn.utils._param_validation.InvalidParameterError: The 'penalty' parameter of LogisticRegression must be a str among {'l1', 'l2', 'elasticnet'} or None. Got 'none' instead.\n",
      "\n",
      "--------------------------------------------------------------------------------\n",
      "7 fits failed with the following error:\n",
      "Traceback (most recent call last):\n",
      "  File \"D:\\anaconda\\Lib\\site-packages\\sklearn\\model_selection\\_validation.py\", line 895, in _fit_and_score\n",
      "    estimator.fit(X_train, y_train, **fit_params)\n",
      "  File \"D:\\anaconda\\Lib\\site-packages\\sklearn\\base.py\", line 1467, in wrapper\n",
      "    estimator._validate_params()\n",
      "  File \"D:\\anaconda\\Lib\\site-packages\\sklearn\\base.py\", line 666, in _validate_params\n",
      "    validate_parameter_constraints(\n",
      "  File \"D:\\anaconda\\Lib\\site-packages\\sklearn\\utils\\_param_validation.py\", line 95, in validate_parameter_constraints\n",
      "    raise InvalidParameterError(\n",
      "sklearn.utils._param_validation.InvalidParameterError: The 'penalty' parameter of LogisticRegression must be a str among {'l2', 'elasticnet', 'l1'} or None. Got 'none' instead.\n",
      "\n",
      "--------------------------------------------------------------------------------\n",
      "2 fits failed with the following error:\n",
      "Traceback (most recent call last):\n",
      "  File \"D:\\anaconda\\Lib\\site-packages\\sklearn\\model_selection\\_validation.py\", line 895, in _fit_and_score\n",
      "    estimator.fit(X_train, y_train, **fit_params)\n",
      "  File \"D:\\anaconda\\Lib\\site-packages\\sklearn\\base.py\", line 1467, in wrapper\n",
      "    estimator._validate_params()\n",
      "  File \"D:\\anaconda\\Lib\\site-packages\\sklearn\\base.py\", line 666, in _validate_params\n",
      "    validate_parameter_constraints(\n",
      "  File \"D:\\anaconda\\Lib\\site-packages\\sklearn\\utils\\_param_validation.py\", line 95, in validate_parameter_constraints\n",
      "    raise InvalidParameterError(\n",
      "sklearn.utils._param_validation.InvalidParameterError: The 'penalty' parameter of LogisticRegression must be a str among {'elasticnet', 'l2', 'l1'} or None. Got 'none' instead.\n",
      "\n",
      "--------------------------------------------------------------------------------\n",
      "3 fits failed with the following error:\n",
      "Traceback (most recent call last):\n",
      "  File \"D:\\anaconda\\Lib\\site-packages\\sklearn\\model_selection\\_validation.py\", line 895, in _fit_and_score\n",
      "    estimator.fit(X_train, y_train, **fit_params)\n",
      "  File \"D:\\anaconda\\Lib\\site-packages\\sklearn\\base.py\", line 1467, in wrapper\n",
      "    estimator._validate_params()\n",
      "  File \"D:\\anaconda\\Lib\\site-packages\\sklearn\\base.py\", line 666, in _validate_params\n",
      "    validate_parameter_constraints(\n",
      "  File \"D:\\anaconda\\Lib\\site-packages\\sklearn\\utils\\_param_validation.py\", line 95, in validate_parameter_constraints\n",
      "    raise InvalidParameterError(\n",
      "sklearn.utils._param_validation.InvalidParameterError: The 'penalty' parameter of LogisticRegression must be a str among {'elasticnet', 'l1', 'l2'} or None. Got 'none' instead.\n",
      "\n",
      "--------------------------------------------------------------------------------\n",
      "2 fits failed with the following error:\n",
      "Traceback (most recent call last):\n",
      "  File \"D:\\anaconda\\Lib\\site-packages\\sklearn\\model_selection\\_validation.py\", line 895, in _fit_and_score\n",
      "    estimator.fit(X_train, y_train, **fit_params)\n",
      "  File \"D:\\anaconda\\Lib\\site-packages\\sklearn\\base.py\", line 1467, in wrapper\n",
      "    estimator._validate_params()\n",
      "  File \"D:\\anaconda\\Lib\\site-packages\\sklearn\\base.py\", line 666, in _validate_params\n",
      "    validate_parameter_constraints(\n",
      "  File \"D:\\anaconda\\Lib\\site-packages\\sklearn\\utils\\_param_validation.py\", line 95, in validate_parameter_constraints\n",
      "    raise InvalidParameterError(\n",
      "sklearn.utils._param_validation.InvalidParameterError: The 'penalty' parameter of LogisticRegression must be a str among {'l2', 'l1', 'elasticnet'} or None. Got 'none' instead.\n",
      "\n",
      "  warnings.warn(some_fits_failed_message, FitFailedWarning)\n",
      "D:\\anaconda\\Lib\\site-packages\\sklearn\\model_selection\\_search.py:1051: UserWarning: One or more of the test scores are non-finite: [       nan 0.37090909        nan        nan 0.67636364        nan\n",
      "        nan 0.37090909        nan        nan 0.67636364        nan]\n",
      "  warnings.warn(\n",
      "D:\\anaconda\\Lib\\site-packages\\sklearn\\linear_model\\_logistic.py:469: ConvergenceWarning: lbfgs failed to converge (status=1):\n",
      "STOP: TOTAL NO. of ITERATIONS REACHED LIMIT.\n",
      "\n",
      "Increase the number of iterations (max_iter) or scale the data as shown in:\n",
      "    https://scikit-learn.org/stable/modules/preprocessing.html\n",
      "Please also refer to the documentation for alternative solver options:\n",
      "    https://scikit-learn.org/stable/modules/linear_model.html#logistic-regression\n",
      "  n_iter_i = _check_optimize_result(\n"
     ]
    },
    {
     "data": {
      "image/png": "[encoded data removed]",
      "text/plain": [
       "<Figure size 640x480 with 2 Axes>"
      ]
     },
     "metadata": {},
     "output_type": "display_data"
    }
   ],
   "source": [
    "logistic = LogisticRegression(max_iter=10)\n",
    "parameters = {'C':[0.1 , 1], \n",
    "             'penalty':['l1' , 'l2' , 'none'],\n",
    "             'multi_class':['multinomial' , 'ovr']}\n",
    "grid_search = GridSearchCV(estimator=logistic, param_grid=parameters, cv=5, scoring='accuracy', n_jobs=-1)\n",
    "grid_search.fit(x_train, y_train)\n",
    "print(grid_search.best_estimator_ , grid_search.best_params_ , grid_search.best_score_)\n",
    "best_model = grid_search.best_estimator_\n",
    "y_pred = best_model.predict(x_test)\n",
    "cv_score = cross_val_score(model, x_train, y_train, cv=5, scoring='accuracy')\n",
    "print(y_test , \" \" , y_pred)\n",
    "log_acc = accuracy_score(y_test, y_pred)\n",
    "print(\"accuracy:-\" , accuracy_score(y_test, y_pred))\n",
    "print(\"recall:-\" , recall_score(y_test, y_pred , average='macro'))\n",
    "print( \"confusion matrix\", confusion_matrix(y_test, y_pred))\n",
    "print(\"f1 score:-\", f1_score(y_test, y_pred , average='macro'))\n",
    "print(\"cross validation\", cv_score)\n",
    "\n",
    "disp = ConfusionMatrixDisplay(confusion_matrix=confusion_matrix(y_test, y_pred))\n",
    "disp.plot(cmap=plt.cm.Blues)\n",
    "plt.title(\"Confusion Matrix for Logistic Regression\")\n",
    "plt.show()"
   ]
  },
  {
   "cell_type": "markdown",
   "id": "3bdac869-39e2-489e-9ca0-bde1d932a0ec",
   "metadata": {},
   "source": [
    "# Apply Support Vector Machine (SVM) with Hyperparameters"
   ]
  },
  {
   "cell_type": "code",
   "execution_count": 170,
   "id": "1b7979cb-d178-4ab9-b53b-5f0ed9b6aa6c",
   "metadata": {},
   "outputs": [
    {
     "name": "stdout",
     "output_type": "stream",
     "text": [
      "SVC(C=1, gamma=0.1, kernel='linear') {'C': 1, 'gamma': 0.1, 'kernel': 'linear'} 0.9854545454545456\n",
      "194    Chinstrap\n",
      "157    Chinstrap\n",
      "225       Gentoo\n",
      "208    Chinstrap\n",
      "318       Gentoo\n",
      "         ...    \n",
      "321       Gentoo\n",
      "172    Chinstrap\n",
      "73        Adelie\n",
      "76        Adelie\n",
      "16        Adelie\n",
      "Name: species, Length: 69, dtype: object   ['Chinstrap' 'Chinstrap' 'Gentoo' 'Chinstrap' 'Gentoo' 'Gentoo' 'Gentoo'\n",
      " 'Gentoo' 'Adelie' 'Gentoo' 'Gentoo' 'Adelie' 'Adelie' 'Adelie' 'Gentoo'\n",
      " 'Adelie' 'Adelie' 'Gentoo' 'Gentoo' 'Adelie' 'Adelie' 'Adelie' 'Gentoo'\n",
      " 'Adelie' 'Chinstrap' 'Chinstrap' 'Adelie' 'Chinstrap' 'Adelie'\n",
      " 'Chinstrap' 'Adelie' 'Adelie' 'Chinstrap' 'Adelie' 'Adelie' 'Adelie'\n",
      " 'Gentoo' 'Chinstrap' 'Adelie' 'Chinstrap' 'Gentoo' 'Gentoo' 'Gentoo'\n",
      " 'Adelie' 'Adelie' 'Adelie' 'Gentoo' 'Adelie' 'Adelie' 'Chinstrap'\n",
      " 'Adelie' 'Gentoo' 'Gentoo' 'Adelie' 'Adelie' 'Chinstrap' 'Adelie'\n",
      " 'Chinstrap' 'Chinstrap' 'Gentoo' 'Chinstrap' 'Adelie' 'Gentoo' 'Adelie'\n",
      " 'Gentoo' 'Gentoo' 'Adelie' 'Adelie' 'Adelie']\n",
      "accuracy:- 0.9855072463768116\n",
      "recall:- 0.9791666666666666\n",
      "confusion matrix [[32  0  0]\n",
      " [ 0 15  1]\n",
      " [ 0  0 21]]\n",
      "f1 score:- 0.9814953738434609\n",
      "cross validation [0.72727273 0.69090909 0.8        0.70909091 0.78181818]\n"
     ]
    },
    {
     "data": {
      "image/png": "[encoded data removed]",
      "text/plain": [
       "<Figure size 640x480 with 2 Axes>"
      ]
     },
     "metadata": {},
     "output_type": "display_data"
    }
   ],
   "source": [
    "svm = SVC()\n",
    "parameters = {'C':[0.1 , 1], \n",
    "             'kernel':['linear' , 'rbf' , 'poly'],\n",
    "             'gamma':[0.1 , 0.2]}\n",
    "grid_search = GridSearchCV(estimator=svm, param_grid=parameters, cv=5, scoring='accuracy')\n",
    "grid_search.fit(x_train, y_train)\n",
    "print(grid_search.best_estimator_ , grid_search.best_params_ , grid_search.best_score_)\n",
    "best_model = grid_search.best_estimator_\n",
    "y_pred = best_model.predict(x_test)\n",
    "cv_score = cross_val_score(model, x_train, y_train, cv=5, scoring='accuracy')\n",
    "print(y_test , \" \" , y_pred)\n",
    "svm_acc = accuracy_score(y_test, y_pred)\n",
    "print(\"accuracy:-\" , accuracy_score(y_test, y_pred))\n",
    "print(\"recall:-\" , recall_score(y_test, y_pred , average='macro'))\n",
    "print( \"confusion matrix\", confusion_matrix(y_test, y_pred))\n",
    "print(\"f1 score:-\", f1_score(y_test, y_pred , average='macro'))\n",
    "print(\"cross validation\", cv_score)\n",
    "disp = ConfusionMatrixDisplay(confusion_matrix=confusion_matrix(y_test, y_pred))\n",
    "disp.plot(cmap=plt.cm.Blues)\n",
    "plt.title(\"Confusion Matrix for Logistic Regression\")\n",
    "plt.show()"
   ]
  },
  {
   "cell_type": "markdown",
   "id": "3818c7ca-8e91-4cb9-b4c8-989531a59a20",
   "metadata": {},
   "source": [
    "# Apply Decision Tree with Hyperparameters"
   ]
  },
  {
   "cell_type": "code",
   "execution_count": 160,
   "id": "bd1cda9d-89a8-4ec0-8c4a-7f1759f7d133",
   "metadata": {},
   "outputs": [
    {
     "name": "stdout",
     "output_type": "stream",
     "text": [
      "DecisionTreeClassifier(max_depth=3, min_samples_split=0.1) {'criterion': 'gini', 'max_depth': 3, 'min_samples_leaf': 1, 'min_samples_split': 0.1} 1.0\n",
      "194    Chinstrap\n",
      "157    Chinstrap\n",
      "225       Gentoo\n",
      "208    Chinstrap\n",
      "318       Gentoo\n",
      "         ...    \n",
      "321       Gentoo\n",
      "172    Chinstrap\n",
      "73        Adelie\n",
      "76        Adelie\n",
      "16        Adelie\n",
      "Name: species, Length: 69, dtype: object   ['Chinstrap' 'Chinstrap' 'Gentoo' 'Chinstrap' 'Gentoo' 'Gentoo' 'Gentoo'\n",
      " 'Gentoo' 'Adelie' 'Gentoo' 'Gentoo' 'Adelie' 'Adelie' 'Adelie' 'Gentoo'\n",
      " 'Adelie' 'Adelie' 'Gentoo' 'Gentoo' 'Adelie' 'Adelie' 'Adelie' 'Gentoo'\n",
      " 'Adelie' 'Chinstrap' 'Chinstrap' 'Adelie' 'Chinstrap' 'Adelie'\n",
      " 'Chinstrap' 'Adelie' 'Adelie' 'Chinstrap' 'Adelie' 'Adelie' 'Adelie'\n",
      " 'Gentoo' 'Chinstrap' 'Adelie' 'Chinstrap' 'Gentoo' 'Gentoo' 'Gentoo'\n",
      " 'Adelie' 'Adelie' 'Adelie' 'Gentoo' 'Adelie' 'Adelie' 'Chinstrap'\n",
      " 'Adelie' 'Gentoo' 'Gentoo' 'Adelie' 'Adelie' 'Chinstrap' 'Adelie'\n",
      " 'Chinstrap' 'Chinstrap' 'Gentoo' 'Chinstrap' 'Adelie' 'Gentoo' 'Adelie'\n",
      " 'Gentoo' 'Chinstrap' 'Adelie' 'Adelie' 'Adelie']\n",
      "accuracy:- 1.0\n",
      "recall:- 1.0\n",
      "confusion matrix [[32  0  0]\n",
      " [ 0 16  0]\n",
      " [ 0  0 21]]\n",
      "f1 score:- 1.0\n",
      "cross validation [0.72727273 0.69090909 0.8        0.70909091 0.78181818]\n"
     ]
    },
    {
     "data": {
      "image/png": "[encoded data removed]",
      "text/plain": [
       "<Figure size 640x480 with 2 Axes>"
      ]
     },
     "metadata": {},
     "output_type": "display_data"
    }
   ],
   "source": [
    "# Decision Tree\n",
    "parameters = {'criterion':['gini' , 'entropy'], \n",
    "             'min_samples_leaf':[1 , 2],\n",
    "             'min_samples_split':[0.1 , 0.2], \n",
    "             'max_depth': [3, 4]}\n",
    "dt = DecisionTreeClassifier()\n",
    "grid_search = GridSearchCV(estimator=dt, param_grid=parameters, cv=5, scoring='accuracy', n_jobs=-1)\n",
    "grid_search.fit(x_train, y_train)\n",
    "print(grid_search.best_estimator_ , grid_search.best_params_ , grid_search.best_score_)\n",
    "best_model = grid_search.best_estimator_\n",
    "y_pred = best_model.predict(x_test)\n",
    "cv_score = cross_val_score(model, x_train, y_train, cv=5, scoring='accuracy')\n",
    "print(y_test , \" \" , y_pred)\n",
    "dt_acc = accuracy_score(y_test, y_pred)\n",
    "print(\"accuracy:-\" , accuracy_score(y_test, y_pred))\n",
    "print(\"recall:-\" , recall_score(y_test, y_pred , average='macro'))\n",
    "print( \"confusion matrix\", confusion_matrix(y_test, y_pred))\n",
    "print(\"f1 score:-\", f1_score(y_test, y_pred , average='macro'))\n",
    "print(\"cross validation\", cv_score)\n",
    "\n",
    "\n",
    "disp = ConfusionMatrixDisplay(confusion_matrix=confusion_matrix(y_test, y_pred))\n",
    "disp.plot(cmap=plt.cm.Blues)\n",
    "plt.title(\"Confusion Matrix for Logistic Regression\")\n",
    "plt.show()"
   ]
  },
  {
   "cell_type": "markdown",
   "id": "ce3d2a0c-7c29-40c1-98ab-4b98f4b7113a",
   "metadata": {},
   "source": [
    "# Apply Random Forest with Hyperparameters"
   ]
  },
  {
   "cell_type": "code",
   "execution_count": 168,
   "id": "9043d316-a15f-46af-9d54-dbe65261669a",
   "metadata": {},
   "outputs": [
    {
     "name": "stdout",
     "output_type": "stream",
     "text": [
      "RandomForestClassifier(max_depth=3, min_samples_split=0.1, n_estimators=10) {'max_depth': 3, 'min_samples_leaf': 1, 'min_samples_split': 0.1, 'n_estimators': 10} 0.9963636363636365\n",
      "194    Chinstrap\n",
      "157    Chinstrap\n",
      "225       Gentoo\n",
      "208    Chinstrap\n",
      "318       Gentoo\n",
      "         ...    \n",
      "321       Gentoo\n",
      "172    Chinstrap\n",
      "73        Adelie\n",
      "76        Adelie\n",
      "16        Adelie\n",
      "Name: species, Length: 69, dtype: object   ['Chinstrap' 'Chinstrap' 'Gentoo' 'Chinstrap' 'Gentoo' 'Gentoo' 'Gentoo'\n",
      " 'Gentoo' 'Adelie' 'Gentoo' 'Gentoo' 'Adelie' 'Adelie' 'Adelie' 'Gentoo'\n",
      " 'Adelie' 'Adelie' 'Gentoo' 'Gentoo' 'Adelie' 'Adelie' 'Adelie' 'Gentoo'\n",
      " 'Adelie' 'Chinstrap' 'Chinstrap' 'Adelie' 'Chinstrap' 'Adelie'\n",
      " 'Chinstrap' 'Adelie' 'Adelie' 'Chinstrap' 'Adelie' 'Adelie' 'Adelie'\n",
      " 'Gentoo' 'Chinstrap' 'Adelie' 'Chinstrap' 'Gentoo' 'Gentoo' 'Gentoo'\n",
      " 'Adelie' 'Adelie' 'Adelie' 'Gentoo' 'Adelie' 'Adelie' 'Chinstrap'\n",
      " 'Adelie' 'Gentoo' 'Gentoo' 'Adelie' 'Adelie' 'Chinstrap' 'Adelie'\n",
      " 'Chinstrap' 'Chinstrap' 'Gentoo' 'Chinstrap' 'Adelie' 'Gentoo' 'Adelie'\n",
      " 'Gentoo' 'Chinstrap' 'Adelie' 'Adelie' 'Adelie']\n",
      "accuracy:- 1.0\n",
      "recall:- 1.0\n",
      "confusion matrix [[32  0  0]\n",
      " [ 0 16  0]\n",
      " [ 0  0 21]]\n",
      "f1 score:- 1.0\n",
      "cross validation [0.72727273 0.69090909 0.8        0.70909091 0.78181818]\n"
     ]
    },
    {
     "data": {
      "image/png": "[encoded data removed]",
      "text/plain": [
       "<Figure size 640x480 with 2 Axes>"
      ]
     },
     "metadata": {},
     "output_type": "display_data"
    }
   ],
   "source": [
    "# Random Forest\n",
    "parameters = {'n_estimators': [5, 10, 20], \n",
    "             'min_samples_leaf':[1 , 2],\n",
    "             'min_samples_split':[0.1 , 0.2], \n",
    "             'max_depth': [3, 4]}\n",
    "rf = RandomForestClassifier()\n",
    "grid_search = GridSearchCV(estimator=rf, param_grid=parameters, cv=5, scoring='accuracy', n_jobs=-1)\n",
    "grid_search.fit(x_train, y_train)\n",
    "print(grid_search.best_estimator_ , grid_search.best_params_ , grid_search.best_score_)\n",
    "best_model = grid_search.best_estimator_\n",
    "y_pred = best_model.predict(x_test)\n",
    "cv_score = cross_val_score(model, x_train, y_train, cv=5, scoring='accuracy')\n",
    "print(y_test , \" \" , y_pred)\n",
    "rf_acc = accuracy_score(y_test, y_pred)\n",
    "print(\"accuracy:-\" , accuracy_score(y_test, y_pred))\n",
    "print(\"recall:-\" , recall_score(y_test, y_pred , average='macro'))\n",
    "print( \"confusion matrix\", confusion_matrix(y_test, y_pred))\n",
    "print(\"f1 score:-\", f1_score(y_test, y_pred , average='macro'))\n",
    "print(\"cross validation\", cv_score)\n",
    "\n",
    "disp = ConfusionMatrixDisplay(confusion_matrix=confusion_matrix(y_test, y_pred))\n",
    "disp.plot(cmap=plt.cm.Blues)\n",
    "plt.title(\"Confusion Matrix for Logistic Regression\")\n",
    "plt.show()"
   ]
  },
  {
   "cell_type": "markdown",
   "id": "fc3bd641-209e-4c07-abba-a408f63b9ea1",
   "metadata": {},
   "source": [
    "# Define The Evaluation for each Model"
   ]
  },
  {
   "cell_type": "code",
   "execution_count": 166,
   "id": "841c2143-c7bf-4a81-b1ca-b751f93fabf9",
   "metadata": {},
   "outputs": [
    {
     "data": {
      "text/html": [
       "<div>\n",
       "<style scoped>\n",
       "    .dataframe tbody tr th:only-of-type {\n",
       "        vertical-align: middle;\n",
       "    }\n",
       "\n",
       "    .dataframe tbody tr th {\n",
       "        vertical-align: top;\n",
       "    }\n",
       "\n",
       "    .dataframe thead th {\n",
       "        text-align: right;\n",
       "    }\n",
       "</style>\n",
       "<table border=\"1\" class=\"dataframe\">\n",
       "  <thead>\n",
       "    <tr style=\"text-align: right;\">\n",
       "      <th></th>\n",
       "      <th>Model</th>\n",
       "      <th>Score</th>\n",
       "    </tr>\n",
       "  </thead>\n",
       "  <tbody>\n",
       "    <tr>\n",
       "      <th>1</th>\n",
       "      <td>Decision Tree</td>\n",
       "      <td>1.000000</td>\n",
       "    </tr>\n",
       "    <tr>\n",
       "      <th>2</th>\n",
       "      <td>Random Forest</td>\n",
       "      <td>1.000000</td>\n",
       "    </tr>\n",
       "    <tr>\n",
       "      <th>3</th>\n",
       "      <td>Support Vector Machines</td>\n",
       "      <td>0.985507</td>\n",
       "    </tr>\n",
       "    <tr>\n",
       "      <th>0</th>\n",
       "      <td>Logistic Regression</td>\n",
       "      <td>0.623188</td>\n",
       "    </tr>\n",
       "  </tbody>\n",
       "</table>\n",
       "</div>"
      ],
      "text/plain": [
       "                     Model     Score\n",
       "1            Decision Tree  1.000000\n",
       "2            Random Forest  1.000000\n",
       "3  Support Vector Machines  0.985507\n",
       "0      Logistic Regression  0.623188"
      ]
     },
     "execution_count": 166,
     "metadata": {},
     "output_type": "execute_result"
    }
   ],
   "source": [
    "models = pd.DataFrame({\n",
    "    'Model': ['Logistic Regression', 'Decision Tree', 'Random Forest', 'Support Vector Machines'],\n",
    "    'Score': [log_acc, dt_acc , rf_acc , svm_acc]})\n",
    "models.sort_values(by='Score', ascending=False)"
   ]
  }
 ],
 "metadata": {
  "kernelspec": {
   "display_name": "Python 3 (ipykernel)",
   "language": "python",
   "name": "python3"
  },
  "language_info": {
   "codemirror_mode": {
    "name": "ipython",
    "version": 3
   },
   "file_extension": ".py",
   "mimetype": "text/x-python",
   "name": "python",
   "nbconvert_exporter": "python",
   "pygments_lexer": "ipython3",
   "version": "3.12.4"
  }
 },
 "nbformat": 4,
 "nbformat_minor": 5
}
