{
 "cells": [
  {
   "cell_type": "markdown",
   "id": "37de5134-06f9-4930-ad5c-e9c72302ad67",
   "metadata": {},
   "source": [
    "# Task 2.1 (Canada Per Capita) From Scratch\n",
    "The Dataset from kaggle (https://www.kaggle.com/datasets/gurdit559/canada-per-capita-income-single-variable-data-set?resource=download&select=canada_per_capita_income.csv)"
   ]
  },
  {
   "cell_type": "markdown",
   "id": "066fb89d-1b53-4cf2-9f8c-44fa231ae8b2",
   "metadata": {},
   "source": [
    "## Import Libraries"
   ]
  },
  {
   "cell_type": "code",
   "execution_count": 3,
   "id": "129add50-3688-438d-86d0-dc36ef66cb56",
   "metadata": {},
   "outputs": [],
   "source": [
    "import numpy as np \n",
    "import pandas as pd \n",
    "import seaborn as sns\n",
    "import plotly.express as px\n",
    "import matplotlib.pyplot as plt"
   ]
  },
  {
   "cell_type": "markdown",
   "id": "191c8a89-2e14-48ec-b4e6-ae23465cb793",
   "metadata": {},
   "source": [
    "## Load Data"
   ]
  },
  {
   "cell_type": "code",
   "execution_count": 5,
   "id": "da821789-ad26-4f5d-8fac-6b22758a1c3f",
   "metadata": {},
   "outputs": [
    {
     "data": {
      "text/html": [
       "<div>\n",
       "<style scoped>\n",
       "    .dataframe tbody tr th:only-of-type {\n",
       "        vertical-align: middle;\n",
       "    }\n",
       "\n",
       "    .dataframe tbody tr th {\n",
       "        vertical-align: top;\n",
       "    }\n",
       "\n",
       "    .dataframe thead th {\n",
       "        text-align: right;\n",
       "    }\n",
       "</style>\n",
       "<table border=\"1\" class=\"dataframe\">\n",
       "  <thead>\n",
       "    <tr style=\"text-align: right;\">\n",
       "      <th></th>\n",
       "      <th>year</th>\n",
       "      <th>per capita income (US$)</th>\n",
       "    </tr>\n",
       "  </thead>\n",
       "  <tbody>\n",
       "    <tr>\n",
       "      <th>0</th>\n",
       "      <td>1970</td>\n",
       "      <td>3399.299037</td>\n",
       "    </tr>\n",
       "    <tr>\n",
       "      <th>1</th>\n",
       "      <td>1971</td>\n",
       "      <td>3768.297935</td>\n",
       "    </tr>\n",
       "    <tr>\n",
       "      <th>2</th>\n",
       "      <td>1972</td>\n",
       "      <td>4251.175484</td>\n",
       "    </tr>\n",
       "    <tr>\n",
       "      <th>3</th>\n",
       "      <td>1973</td>\n",
       "      <td>4804.463248</td>\n",
       "    </tr>\n",
       "    <tr>\n",
       "      <th>4</th>\n",
       "      <td>1974</td>\n",
       "      <td>5576.514583</td>\n",
       "    </tr>\n",
       "    <tr>\n",
       "      <th>5</th>\n",
       "      <td>1975</td>\n",
       "      <td>5998.144346</td>\n",
       "    </tr>\n",
       "    <tr>\n",
       "      <th>6</th>\n",
       "      <td>1976</td>\n",
       "      <td>7062.131392</td>\n",
       "    </tr>\n",
       "    <tr>\n",
       "      <th>7</th>\n",
       "      <td>1977</td>\n",
       "      <td>7100.126170</td>\n",
       "    </tr>\n",
       "    <tr>\n",
       "      <th>8</th>\n",
       "      <td>1978</td>\n",
       "      <td>7247.967035</td>\n",
       "    </tr>\n",
       "    <tr>\n",
       "      <th>9</th>\n",
       "      <td>1979</td>\n",
       "      <td>7602.912681</td>\n",
       "    </tr>\n",
       "    <tr>\n",
       "      <th>10</th>\n",
       "      <td>1980</td>\n",
       "      <td>8355.968120</td>\n",
       "    </tr>\n",
       "    <tr>\n",
       "      <th>11</th>\n",
       "      <td>1981</td>\n",
       "      <td>9434.390652</td>\n",
       "    </tr>\n",
       "    <tr>\n",
       "      <th>12</th>\n",
       "      <td>1982</td>\n",
       "      <td>9619.438377</td>\n",
       "    </tr>\n",
       "    <tr>\n",
       "      <th>13</th>\n",
       "      <td>1983</td>\n",
       "      <td>10416.536590</td>\n",
       "    </tr>\n",
       "    <tr>\n",
       "      <th>14</th>\n",
       "      <td>1984</td>\n",
       "      <td>10790.328720</td>\n",
       "    </tr>\n",
       "    <tr>\n",
       "      <th>15</th>\n",
       "      <td>1985</td>\n",
       "      <td>11018.955850</td>\n",
       "    </tr>\n",
       "    <tr>\n",
       "      <th>16</th>\n",
       "      <td>1986</td>\n",
       "      <td>11482.891530</td>\n",
       "    </tr>\n",
       "    <tr>\n",
       "      <th>17</th>\n",
       "      <td>1987</td>\n",
       "      <td>12974.806620</td>\n",
       "    </tr>\n",
       "    <tr>\n",
       "      <th>18</th>\n",
       "      <td>1988</td>\n",
       "      <td>15080.283450</td>\n",
       "    </tr>\n",
       "    <tr>\n",
       "      <th>19</th>\n",
       "      <td>1989</td>\n",
       "      <td>16426.725480</td>\n",
       "    </tr>\n",
       "    <tr>\n",
       "      <th>20</th>\n",
       "      <td>1990</td>\n",
       "      <td>16838.673200</td>\n",
       "    </tr>\n",
       "    <tr>\n",
       "      <th>21</th>\n",
       "      <td>1991</td>\n",
       "      <td>17266.097690</td>\n",
       "    </tr>\n",
       "    <tr>\n",
       "      <th>22</th>\n",
       "      <td>1992</td>\n",
       "      <td>16412.083090</td>\n",
       "    </tr>\n",
       "    <tr>\n",
       "      <th>23</th>\n",
       "      <td>1993</td>\n",
       "      <td>15875.586730</td>\n",
       "    </tr>\n",
       "    <tr>\n",
       "      <th>24</th>\n",
       "      <td>1994</td>\n",
       "      <td>15755.820270</td>\n",
       "    </tr>\n",
       "    <tr>\n",
       "      <th>25</th>\n",
       "      <td>1995</td>\n",
       "      <td>16369.317250</td>\n",
       "    </tr>\n",
       "    <tr>\n",
       "      <th>26</th>\n",
       "      <td>1996</td>\n",
       "      <td>16699.826680</td>\n",
       "    </tr>\n",
       "    <tr>\n",
       "      <th>27</th>\n",
       "      <td>1997</td>\n",
       "      <td>17310.757750</td>\n",
       "    </tr>\n",
       "    <tr>\n",
       "      <th>28</th>\n",
       "      <td>1998</td>\n",
       "      <td>16622.671870</td>\n",
       "    </tr>\n",
       "    <tr>\n",
       "      <th>29</th>\n",
       "      <td>1999</td>\n",
       "      <td>17581.024140</td>\n",
       "    </tr>\n",
       "    <tr>\n",
       "      <th>30</th>\n",
       "      <td>2000</td>\n",
       "      <td>18987.382410</td>\n",
       "    </tr>\n",
       "    <tr>\n",
       "      <th>31</th>\n",
       "      <td>2001</td>\n",
       "      <td>18601.397240</td>\n",
       "    </tr>\n",
       "    <tr>\n",
       "      <th>32</th>\n",
       "      <td>2002</td>\n",
       "      <td>19232.175560</td>\n",
       "    </tr>\n",
       "    <tr>\n",
       "      <th>33</th>\n",
       "      <td>2003</td>\n",
       "      <td>22739.426280</td>\n",
       "    </tr>\n",
       "    <tr>\n",
       "      <th>34</th>\n",
       "      <td>2004</td>\n",
       "      <td>25719.147150</td>\n",
       "    </tr>\n",
       "    <tr>\n",
       "      <th>35</th>\n",
       "      <td>2005</td>\n",
       "      <td>29198.055690</td>\n",
       "    </tr>\n",
       "    <tr>\n",
       "      <th>36</th>\n",
       "      <td>2006</td>\n",
       "      <td>32738.262900</td>\n",
       "    </tr>\n",
       "    <tr>\n",
       "      <th>37</th>\n",
       "      <td>2007</td>\n",
       "      <td>36144.481220</td>\n",
       "    </tr>\n",
       "    <tr>\n",
       "      <th>38</th>\n",
       "      <td>2008</td>\n",
       "      <td>37446.486090</td>\n",
       "    </tr>\n",
       "    <tr>\n",
       "      <th>39</th>\n",
       "      <td>2009</td>\n",
       "      <td>32755.176820</td>\n",
       "    </tr>\n",
       "    <tr>\n",
       "      <th>40</th>\n",
       "      <td>2010</td>\n",
       "      <td>38420.522890</td>\n",
       "    </tr>\n",
       "    <tr>\n",
       "      <th>41</th>\n",
       "      <td>2011</td>\n",
       "      <td>42334.711210</td>\n",
       "    </tr>\n",
       "    <tr>\n",
       "      <th>42</th>\n",
       "      <td>2012</td>\n",
       "      <td>42665.255970</td>\n",
       "    </tr>\n",
       "    <tr>\n",
       "      <th>43</th>\n",
       "      <td>2013</td>\n",
       "      <td>42676.468370</td>\n",
       "    </tr>\n",
       "    <tr>\n",
       "      <th>44</th>\n",
       "      <td>2014</td>\n",
       "      <td>41039.893600</td>\n",
       "    </tr>\n",
       "    <tr>\n",
       "      <th>45</th>\n",
       "      <td>2015</td>\n",
       "      <td>35175.188980</td>\n",
       "    </tr>\n",
       "    <tr>\n",
       "      <th>46</th>\n",
       "      <td>2016</td>\n",
       "      <td>34229.193630</td>\n",
       "    </tr>\n",
       "  </tbody>\n",
       "</table>\n",
       "</div>"
      ],
      "text/plain": [
       "    year  per capita income (US$)\n",
       "0   1970              3399.299037\n",
       "1   1971              3768.297935\n",
       "2   1972              4251.175484\n",
       "3   1973              4804.463248\n",
       "4   1974              5576.514583\n",
       "5   1975              5998.144346\n",
       "6   1976              7062.131392\n",
       "7   1977              7100.126170\n",
       "8   1978              7247.967035\n",
       "9   1979              7602.912681\n",
       "10  1980              8355.968120\n",
       "11  1981              9434.390652\n",
       "12  1982              9619.438377\n",
       "13  1983             10416.536590\n",
       "14  1984             10790.328720\n",
       "15  1985             11018.955850\n",
       "16  1986             11482.891530\n",
       "17  1987             12974.806620\n",
       "18  1988             15080.283450\n",
       "19  1989             16426.725480\n",
       "20  1990             16838.673200\n",
       "21  1991             17266.097690\n",
       "22  1992             16412.083090\n",
       "23  1993             15875.586730\n",
       "24  1994             15755.820270\n",
       "25  1995             16369.317250\n",
       "26  1996             16699.826680\n",
       "27  1997             17310.757750\n",
       "28  1998             16622.671870\n",
       "29  1999             17581.024140\n",
       "30  2000             18987.382410\n",
       "31  2001             18601.397240\n",
       "32  2002             19232.175560\n",
       "33  2003             22739.426280\n",
       "34  2004             25719.147150\n",
       "35  2005             29198.055690\n",
       "36  2006             32738.262900\n",
       "37  2007             36144.481220\n",
       "38  2008             37446.486090\n",
       "39  2009             32755.176820\n",
       "40  2010             38420.522890\n",
       "41  2011             42334.711210\n",
       "42  2012             42665.255970\n",
       "43  2013             42676.468370\n",
       "44  2014             41039.893600\n",
       "45  2015             35175.188980\n",
       "46  2016             34229.193630"
      ]
     },
     "execution_count": 5,
     "metadata": {},
     "output_type": "execute_result"
    }
   ],
   "source": [
    "df = pd.read_csv('canada_per_capita_income.csv')\n",
    "df"
   ]
  },
  {
   "cell_type": "markdown",
   "id": "2fdfcb91-0577-495a-9c38-ed8908965bef",
   "metadata": {},
   "source": [
    "## Data Exploration"
   ]
  },
  {
   "cell_type": "code",
   "execution_count": 7,
   "id": "b6eebc57-89db-4156-8b46-bbfc322984e8",
   "metadata": {},
   "outputs": [
    {
     "name": "stdout",
     "output_type": "stream",
     "text": [
      "<class 'pandas.core.frame.DataFrame'>\n",
      "RangeIndex: 47 entries, 0 to 46\n",
      "Data columns (total 2 columns):\n",
      " #   Column                   Non-Null Count  Dtype  \n",
      "---  ------                   --------------  -----  \n",
      " 0   year                     47 non-null     int64  \n",
      " 1   per capita income (US$)  47 non-null     float64\n",
      "dtypes: float64(1), int64(1)\n",
      "memory usage: 884.0 bytes\n"
     ]
    }
   ],
   "source": [
    "df.info()"
   ]
  },
  {
   "cell_type": "code",
   "execution_count": 8,
   "id": "c38b02e6-87f9-4c0e-9068-825c27ce153b",
   "metadata": {},
   "outputs": [
    {
     "data": {
      "text/html": [
       "<div>\n",
       "<style scoped>\n",
       "    .dataframe tbody tr th:only-of-type {\n",
       "        vertical-align: middle;\n",
       "    }\n",
       "\n",
       "    .dataframe tbody tr th {\n",
       "        vertical-align: top;\n",
       "    }\n",
       "\n",
       "    .dataframe thead th {\n",
       "        text-align: right;\n",
       "    }\n",
       "</style>\n",
       "<table border=\"1\" class=\"dataframe\">\n",
       "  <thead>\n",
       "    <tr style=\"text-align: right;\">\n",
       "      <th></th>\n",
       "      <th>year</th>\n",
       "      <th>per capita income (US$)</th>\n",
       "    </tr>\n",
       "  </thead>\n",
       "  <tbody>\n",
       "    <tr>\n",
       "      <th>count</th>\n",
       "      <td>47.000000</td>\n",
       "      <td>47.000000</td>\n",
       "    </tr>\n",
       "    <tr>\n",
       "      <th>mean</th>\n",
       "      <td>1993.000000</td>\n",
       "      <td>18920.137063</td>\n",
       "    </tr>\n",
       "    <tr>\n",
       "      <th>std</th>\n",
       "      <td>13.711309</td>\n",
       "      <td>12034.679438</td>\n",
       "    </tr>\n",
       "    <tr>\n",
       "      <th>min</th>\n",
       "      <td>1970.000000</td>\n",
       "      <td>3399.299037</td>\n",
       "    </tr>\n",
       "    <tr>\n",
       "      <th>25%</th>\n",
       "      <td>1981.500000</td>\n",
       "      <td>9526.914515</td>\n",
       "    </tr>\n",
       "    <tr>\n",
       "      <th>50%</th>\n",
       "      <td>1993.000000</td>\n",
       "      <td>16426.725480</td>\n",
       "    </tr>\n",
       "    <tr>\n",
       "      <th>75%</th>\n",
       "      <td>2004.500000</td>\n",
       "      <td>27458.601420</td>\n",
       "    </tr>\n",
       "    <tr>\n",
       "      <th>max</th>\n",
       "      <td>2016.000000</td>\n",
       "      <td>42676.468370</td>\n",
       "    </tr>\n",
       "  </tbody>\n",
       "</table>\n",
       "</div>"
      ],
      "text/plain": [
       "              year  per capita income (US$)\n",
       "count    47.000000                47.000000\n",
       "mean   1993.000000             18920.137063\n",
       "std      13.711309             12034.679438\n",
       "min    1970.000000              3399.299037\n",
       "25%    1981.500000              9526.914515\n",
       "50%    1993.000000             16426.725480\n",
       "75%    2004.500000             27458.601420\n",
       "max    2016.000000             42676.468370"
      ]
     },
     "execution_count": 8,
     "metadata": {},
     "output_type": "execute_result"
    }
   ],
   "source": [
    "df.describe()"
   ]
  },
  {
   "cell_type": "markdown",
   "id": "e42ba896-530b-48e3-b7ba-a408e9ed4433",
   "metadata": {},
   "source": [
    "## Data Visualization "
   ]
  },
  {
   "cell_type": "code",
   "execution_count": 10,
   "id": "9c6c78b8-b118-4832-bf17-95162ebed313",
   "metadata": {},
   "outputs": [
    {
     "data": {
      "image/png": "[encoded data removed]",
      "text/plain": [
       "<Figure size 1000x600 with 1 Axes>"
      ]
     },
     "metadata": {},
     "output_type": "display_data"
    }
   ],
   "source": [
    "plt.figure(figsize=(10, 6))\n",
    "sns.scatterplot(data=df, x='year', y='per capita income (US$)')\n",
    "plt.title('Scatter Plot of Year vs per capita income')\n",
    "plt.xlabel('Year')\n",
    "plt.ylabel('per capita income')\n",
    "plt.show()"
   ]
  },
  {
   "cell_type": "markdown",
   "id": "56fd08ff-68e7-43ee-bf4d-8104ccc9f9a6",
   "metadata": {},
   "source": [
    "# Linear Regression From Scratch"
   ]
  },
  {
   "cell_type": "markdown",
   "id": "1bee253f-3c9e-4828-80b7-7bbf493c53c9",
   "metadata": {},
   "source": [
    "### --> Define Features and Target"
   ]
  },
  {
   "cell_type": "code",
   "execution_count": 13,
   "id": "75baacb3-9f1c-4c7f-a56f-b6acb5dc4875",
   "metadata": {},
   "outputs": [],
   "source": [
    "X = df['year'].values  # Input (independent variable)\n",
    "y = df['per capita income (US$)'].values  # Output (dependent variable)"
   ]
  },
  {
   "cell_type": "markdown",
   "id": "01d899e4-f798-47f7-8c93-66e74443ec40",
   "metadata": {},
   "source": [
    "### --> Initialize the parameters of the linear equation (y = mx + b), Where (m is slope) and (b is intersept)"
   ]
  },
  {
   "cell_type": "code",
   "execution_count": 15,
   "id": "760c3a0f-ea39-4272-bc31-f9f7d928826c",
   "metadata": {},
   "outputs": [],
   "source": [
    "#w = 0  # Initial weight (slope)\n",
    "#b = 0  # Initial bias (intercept)\n",
    "#learning_rate =  0.000001  # Step size for gradient descent\n",
    "#n = len(X)  # Number of data points (samples)"
   ]
  },
  {
   "cell_type": "markdown",
   "id": "8cfdb593-fce1-4d3a-94c3-da786408cfe2",
   "metadata": {},
   "source": [
    "### --> Define the model hyposis (Applying the linear equation)"
   ]
  },
  {
   "cell_type": "code",
   "execution_count": 17,
   "id": "6ce6f086-303d-4225-a8b8-2891090e8ae1",
   "metadata": {},
   "outputs": [],
   "source": [
    "def predict(X, w, b):\n",
    "    return w * X + b"
   ]
  },
  {
   "cell_type": "markdown",
   "id": "3234d400-8bb0-4ce0-bac9-1abced997d11",
   "metadata": {},
   "source": [
    "### --> Calculate the mean square error which is {(1/n) * sum((predected values - actual values) ** 2)}"
   ]
  },
  {
   "cell_type": "code",
   "execution_count": 19,
   "id": "dd627fc3-7143-4fd7-ad84-fa5cabaa0c6e",
   "metadata": {},
   "outputs": [],
   "source": [
    "def compute_cost(X, y, w, b):\n",
    "    n = len(X)\n",
    "    y_pred = predict(X, w, b)\n",
    "    cost = (1/n) * np.sum((y_pred - y) ** 2)\n",
    "    return cost"
   ]
  },
  {
   "cell_type": "markdown",
   "id": "646adc25-e6b3-471e-8bfa-cfc6f9c56320",
   "metadata": {},
   "source": [
    "### --> Apply Gradient Decent (To update the m and b) and least square to reach minimum cost function (minimum error)"
   ]
  },
  {
   "cell_type": "code",
   "execution_count": 21,
   "id": "1966eee4-cc25-4595-8d9f-80c1322a314d",
   "metadata": {},
   "outputs": [],
   "source": [
    "def gradient_descent(X, y, w, b, learning_rate, epochs):\n",
    "    cost_history = []\n",
    "    n = len(X)\n",
    "    for i in range(epochs):\n",
    "        y_pred = predict(X, w, b)\n",
    "\n",
    "        dw = -(2/n) * np.sum(X * (y - y_pred)) \n",
    "        db = -(2/n) * np.sum(y - y_pred)\n",
    "\n",
    "        w = w - learning_rate * dw \n",
    "        b = b - learning_rate * db \n",
    "\n",
    "        cost = compute_cost(X, y, w, b)\n",
    "        if np.isinf(cost) or np.isnan(cost):\n",
    "            print(f\"Terminating early at epoch {i} due to cost overflow.\")\n",
    "            break\n",
    "        cost_history.append(cost)\n",
    "\n",
    "        if i % 100 == 0:\n",
    "            print(f\"Epoch {i}: Cost {cost}\")\n",
    "\n",
    "    return w, b, cost_history"
   ]
  },
  {
   "cell_type": "code",
   "execution_count": 22,
   "id": "3dd8f1de-cc01-4759-acef-a64b18f8dc4a",
   "metadata": {},
   "outputs": [
    {
     "name": "stdout",
     "output_type": "stream",
     "text": [
      "828.4650752227104 -1632210.7578554575\n"
     ]
    }
   ],
   "source": [
    "x_mean = np.mean(X)\n",
    "y_mean = np.mean(y)\n",
    "\n",
    "n = len(X)\n",
    "\n",
    "numerator = 0\n",
    "denominator = 0\n",
    "for i in range(n):\n",
    "    numerator += (X[i] - x_mean) * (y[i] - y_mean)\n",
    "    denominator += (X[i] - x_mean) ** 2\n",
    "\n",
    "# b1= (y-y1)/(x-x1)\n",
    "# b0= y-(b1*x)\n",
    "b1 = numerator / denominator\n",
    "b0 = y_mean - (b1 * x_mean)\n",
    "\n",
    "#printing the coefficient\n",
    "print(b1, b0)"
   ]
  },
  {
   "cell_type": "markdown",
   "id": "4dfe8c87-566f-40c7-8449-38ec706df91b",
   "metadata": {},
   "source": [
    "### --> Train the model"
   ]
  },
  {
   "cell_type": "code",
   "execution_count": 24,
   "id": "13a8dddb-138f-49d0-a000-8d2bce97dc15",
   "metadata": {},
   "outputs": [
    {
     "name": "stdout",
     "output_type": "stream",
     "text": [
      "Epoch 0: Cost 432946729.91402286\n",
      "Epoch 100: Cost 389728099.07576156\n",
      "Epoch 200: Cost 352861013.48164576\n",
      "Epoch 300: Cost 321412030.1649233\n",
      "Epoch 400: Cost 294584887.85852027\n",
      "Epoch 500: Cost 271700346.34313655\n",
      "Epoch 600: Cost 252178988.66783684\n",
      "Epoch 700: Cost 235526550.8101277\n",
      "Epoch 800: Cost 221321407.33510017\n",
      "Epoch 900: Cost 209203896.20127025\n",
      "Final weight (w): [5.64123949]\n",
      "Final bias (b): 0.9022061966532663\n"
     ]
    }
   ],
   "source": [
    "w = np.random.rand(1)\n",
    "b = np.random.rand()\n",
    "learning_rate = 1e-10  # Set an appropriate learning rate\n",
    "epochs = 1000\n",
    "w, b, cost_history = gradient_descent(X, y, w, b, learning_rate, epochs)\n",
    "\n",
    "print(f\"Final weight (w): {w}\")\n",
    "print(f\"Final bias (b): {b}\")"
   ]
  },
  {
   "cell_type": "code",
   "execution_count": 25,
   "id": "5f4ff273-9b31-4ba4-9e34-840673cd31ad",
   "metadata": {},
   "outputs": [
    {
     "name": "stdout",
     "output_type": "stream",
     "text": [
      "Final weight (w): 828.46507522\n",
      "Final bias (b): -1632210.75785546\n"
     ]
    }
   ],
   "source": [
    "w = 828.46507522\n",
    "b = -1632210.75785546\n",
    "learning_rate = 1e-10  # Set an appropriate learning rate\n",
    "epochs = 1000\n",
    "print(f\"Final weight (w): {w}\")\n",
    "print(f\"Final bias (b): {b}\")"
   ]
  },
  {
   "cell_type": "markdown",
   "id": "569d66cc-d705-4dcf-899a-2ffbc5650f89",
   "metadata": {},
   "source": [
    "### --> Predict"
   ]
  },
  {
   "cell_type": "code",
   "execution_count": 27,
   "id": "7830b8bf-6365-4fcf-a6f0-80a301bf8f43",
   "metadata": {},
   "outputs": [
    {
     "name": "stdout",
     "output_type": "stream",
     "text": [
      "Predicted values: [ -134.55967206   693.90540316  1522.37047838  2350.8355536\n",
      "  3179.30062882  4007.76570404  4836.23077926  5664.69585448\n",
      "  6493.1609297   7321.62600492  8150.09108014  8978.55615536\n",
      "  9807.02123058 10635.4863058  11463.95138102 12292.41645624\n",
      " 13120.88153146 13949.34660668 14777.8116819  15606.27675712\n",
      " 16434.74183234 17263.20690756 18091.67198278 18920.137058\n",
      " 19748.60213322 20577.06720844 21405.53228366 22233.99735888\n",
      " 23062.4624341  23890.92750932 24719.39258454 25547.85765976\n",
      " 26376.32273498 27204.7878102  28033.25288542 28861.71796064\n",
      " 29690.18303586 30518.64811108 31347.1131863  32175.57826152\n",
      " 33004.04333674 33832.50841196 34660.97348718 35489.4385624\n",
      " 36317.90363762 37146.36871284 37974.83378806]\n"
     ]
    }
   ],
   "source": [
    "y_pred = predict(X, w, b)\n",
    "print(\"Predicted values:\", y_pred)"
   ]
  },
  {
   "cell_type": "markdown",
   "id": "211f1f08-7c10-4b35-a184-fc8eea0d83c1",
   "metadata": {},
   "source": [
    "### --> Visualize the Linear Regression"
   ]
  },
  {
   "cell_type": "code",
   "execution_count": 29,
   "id": "3852e170-a30b-446e-8753-07ca1e5a2c63",
   "metadata": {},
   "outputs": [
    {
     "data": {
      "image/png": "[encoded data removed]",
      "text/plain": [
       "<Figure size 640x480 with 1 Axes>"
      ]
     },
     "metadata": {},
     "output_type": "display_data"
    }
   ],
   "source": [
    "# Plot the regression line\n",
    "plt.scatter(X, y, color='blue')  # Original data points\n",
    "plt.plot(X, predict(X, w, b), color='red')  # Fitted line\n",
    "plt.title(\"Linear Regression Fit\")\n",
    "plt.xlabel(\"Year\")\n",
    "plt.ylabel(\"Per Capita Income (US$)\")\n",
    "plt.show()"
   ]
  },
  {
   "cell_type": "code",
   "execution_count": 30,
   "id": "5ff10da3-da01-44c3-96c6-df088e994035",
   "metadata": {},
   "outputs": [
    {
     "data": {
      "image/png": "[encoded data removed]",
      "text/plain": [
       "<Figure size 640x480 with 1 Axes>"
      ]
     },
     "metadata": {},
     "output_type": "display_data"
    }
   ],
   "source": [
    "# Plot cost history\n",
    "plt.plot(range(len(cost_history)), cost_history)\n",
    "plt.title(\"Cost History over Epochs\")\n",
    "plt.xlabel(\"Epoch\")\n",
    "plt.ylabel(\"Cost\")\n",
    "plt.show()"
   ]
  },
  {
   "cell_type": "markdown",
   "id": "5ef56fcc-3125-4895-93e6-010b2152d63e",
   "metadata": {},
   "source": [
    "### --> Use the model "
   ]
  },
  {
   "cell_type": "code",
   "execution_count": 32,
   "id": "f151ae97-1d10-4b90-88f1-8dd858e60fb6",
   "metadata": {},
   "outputs": [
    {
     "data": {
      "text/plain": [
       "11449.543573437755"
      ]
     },
     "execution_count": 32,
     "metadata": {},
     "output_type": "execute_result"
    }
   ],
   "source": [
    "PerCapitaIncome = predict(2020 , 5.66785398 , 0.47853383775459246)\n",
    "PerCapitaIncome"
   ]
  }
 ],
 "metadata": {
  "kernelspec": {
   "display_name": "Python 3 (ipykernel)",
   "language": "python",
   "name": "python3"
  },
  "language_info": {
   "codemirror_mode": {
    "name": "ipython",
    "version": 3
   },
   "file_extension": ".py",
   "mimetype": "text/x-python",
   "name": "python",
   "nbconvert_exporter": "python",
   "pygments_lexer": "ipython3",
   "version": "3.12.4"
  }
 },
 "nbformat": 4,
 "nbformat_minor": 5
}
